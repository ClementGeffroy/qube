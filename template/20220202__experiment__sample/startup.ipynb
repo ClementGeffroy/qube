{
 "cells": [
  {
   "cell_type": "code",
   "execution_count": null,
   "metadata": {},
   "outputs": [],
   "source": [
    "# USE INTERACTIVE ZOOM FOR PLOTS:\n",
    "%matplotlib widget"
   ]
  },
  {
   "cell_type": "code",
   "execution_count": null,
   "metadata": {},
   "outputs": [],
   "source": [
    "# IMPORT QCODES LIBRARIES:\n",
    "\n",
    "import qcodes as qc\n",
    "from qcodes import (\n",
    "    Measurement,\n",
    "    experiments,\n",
    "    initialise_database,\n",
    "    initialise_or_create_database_at,\n",
    "    load_by_id,\n",
    "    load_by_guid,\n",
    "    load_by_run_spec,\n",
    "    load_experiment,\n",
    "    load_last_experiment,\n",
    "    load_or_create_experiment,\n",
    "    new_experiment\n",
    ")\n",
    "from qcodes.dataset.plotting import (plot_by_id, plot_dataset)\n",
    "from qcodes.dataset.data_export import get_data_by_id\n",
    "\n",
    "from qcodes.plots.qcmatplotlib import MatPlot\n",
    "from qcodes.loops import Loop\n",
    "\n",
    "from qcodes import validators as vals\n",
    "from qcodes.instrument.parameter import (\n",
    "    Parameter, ManualParameter,\n",
    "    DelegateParameter)\n",
    "from qcodes.instrument.delegate import DelegateInstrument\n",
    "\n",
    "from qcodes.utils.dataset.doNd import do1d, do2d, dond, plot, LinSweep, LogSweep\n",
    "from qcodes.tests.instrument_mocks import DummyInstrument, DummyInstrumentWithMeasurement\n",
    "import time\n",
    "\n",
    "from qcodes import Station\n",
    "\n",
    "# IMPORT GENERAL PYTHON LIBRARIES:\n",
    "\n",
    "import os\n",
    "import sys\n",
    "import numpy as np\n",
    "from IPython.display import display, Markdown, Latex\n",
    "import datetime\n",
    "\n",
    "# from functools import partial\n",
    "import logging\n",
    "\n",
    "import matplotlib.pyplot as plt\n",
    "from matplotlib.gridspec import GridSpec\n",
    "\n",
    "from tqdm.notebook import tqdm as progress_bar # nice progress bar"
   ]
  },
  {
   "cell_type": "code",
   "execution_count": null,
   "metadata": {},
   "outputs": [],
   "source": [
    "# APPEND HOME-PATH TO SYSTEM-PATH:\n",
    "sys.path.append(\"..//\")\n",
    "\n",
    "# IMPORT FUNCTIONS FOR HOME-MADE DATASET POSTPROCESSING\n",
    "from qube.helpers.qcodes_data import * # Interactive plotter, data-interface, etc. \n",
    "import qube.postprocess.postprocess as postprocess"
   ]
  },
  {
   "cell_type": "markdown",
   "metadata": {},
   "source": [
    "Connect to database or create it if not existing:"
   ]
  },
  {
   "cell_type": "code",
   "execution_count": null,
   "metadata": {},
   "outputs": [],
   "source": [
    "initialise_or_create_database_at('..//measurements//experiments.db')"
   ]
  },
  {
   "cell_type": "markdown",
   "metadata": {},
   "source": [
    "Connect to experiment or create it if not existing:"
   ]
  },
  {
   "cell_type": "code",
   "execution_count": null,
   "metadata": {},
   "outputs": [],
   "source": [
    "exp = load_or_create_experiment(**get_exp_and_sample())"
   ]
  },
  {
   "cell_type": "code",
   "execution_count": null,
   "metadata": {},
   "outputs": [],
   "source": [
    "station = qc.Station()"
   ]
  },
  {
   "cell_type": "code",
   "execution_count": null,
   "metadata": {},
   "outputs": [],
   "source": [
    "# Component to control experiment\n",
    "from qube.measurement.experiment import Experiment\n",
    "controls = Experiment('controls')\n",
    "station.add_component(controls)"
   ]
  },
  {
   "cell_type": "code",
   "execution_count": null,
   "metadata": {},
   "outputs": [],
   "source": [
    "# from qube.layout import gds\n",
    "# from qube.helpers.qcodes_layout import LayoutContent\n",
    "\n",
    "# def controls_display(\n",
    "#     data:qc.dataset.data_set.DataSet=None, # Optional: Extract information from a dataset\n",
    "#     gds_path = '..\\\\configurations\\\\sample.GDS',\n",
    "#     gds_conf = '..\\\\configurations\\\\gds_config.ini',\n",
    "# ):\n",
    "#     \"\"\"\n",
    "#     This function displays the controls of your experiment via a GDS layout.\n",
    "#     If no data is passed, the current values of your controls are shown.\n",
    "#     If data is passed, the control values and sweeps from the dataset are displayed.\n",
    "#     \"\"\"\n",
    "    \n",
    "#     # Extract information of controls and measurement (optional, if dataset is provided)\n",
    "#     if data == None:\n",
    "#         snapshot_controls = controls.snapshot()['parameters']\n",
    "#     else:\n",
    "#         snapshot_controls = data.snapshot['station']['components']['controls']['parameters']\n",
    "\n",
    "#     # Make layout\n",
    "#     temp_layout = GDS_layout.Layout(gds_path)\n",
    "\n",
    "#     if not os.path.exists(gds_conf):\n",
    "        \n",
    "#         # Run wizard if layout config file is not existing\n",
    "#         print('GDS config file does not exist ... launching wizard ...')\n",
    "#         full_names_of_controls = [ i['full_name'] for i in controls.snapshot()['parameters'].values() ] \n",
    "#         temp_layout.config_wizard(\n",
    "#             names = full_names_of_controls,\n",
    "#             export_file = gds_conf,\n",
    "#             default_file = '..\\\\tools\\\\plot\\\\LayoutLibrary\\\\db\\\\default.ini'\n",
    "#         )\n",
    "        \n",
    "#     else:\n",
    "        \n",
    "#         # Load layout config file\n",
    "#         temp_layout.load_layout_config(gds_conf)\n",
    "\n",
    "#         # Extract informations on controls and measurement\n",
    "#         gates = LayoutContent(snapshot_controls,data)\n",
    "#         gates.set_to_layout(layout=temp_layout)\n",
    "\n",
    "#         # Plot\n",
    "#         fig, ax = temp_layout.plot_layout()\n",
    "#         plt.show()\n",
    "        "
   ]
  },
  {
   "cell_type": "code",
   "execution_count": null,
   "metadata": {},
   "outputs": [],
   "source": [
    "startup_was_launched = True"
   ]
  }
 ],
 "metadata": {
  "kernelspec": {
   "display_name": "Python 3 (ipykernel)",
   "language": "python",
   "name": "python3"
  },
  "language_info": {
   "codemirror_mode": {
    "name": "ipython",
    "version": 3
   },
   "file_extension": ".py",
   "mimetype": "text/x-python",
   "name": "python",
   "nbconvert_exporter": "python",
   "pygments_lexer": "ipython3",
   "version": "3.9.7"
  }
 },
 "nbformat": 4,
 "nbformat_minor": 4
}
