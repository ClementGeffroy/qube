{
 "cells": [
  {
   "cell_type": "markdown",
   "metadata": {},
   "source": [
    "Do some imports if not already performed:"
   ]
  },
  {
   "cell_type": "code",
   "execution_count": null,
   "metadata": {},
   "outputs": [],
   "source": [
    "try:\n",
    "    startup_was_launched\n",
    "except: \n",
    "    %run -i \"..//tools//startup.ipynb\"\n",
    "    print('Startup performed ...')"
   ]
  },
  {
   "cell_type": "code",
   "execution_count": null,
   "metadata": {},
   "outputs": [],
   "source": [
    "progress = progress_bar(total=10)"
   ]
  },
  {
   "cell_type": "markdown",
   "metadata": {},
   "source": [
    "# 1. INSTRUMENT IMPORT"
   ]
  },
  {
   "cell_type": "markdown",
   "metadata": {},
   "source": [
    "### Neel DAC"
   ]
  },
  {
   "cell_type": "code",
   "execution_count": null,
   "metadata": {},
   "outputs": [],
   "source": [
    "from tools.drivers.NEEL_DAC import NEEL_DAC\n",
    "# Load NEEL_DAC\n",
    "dac = NEEL_DAC(name='dac',\n",
    "            bitFilePath = '..\\\\tools\\\\drivers\\\\fpgabatchhewodan_sbRIO9612RIO0_hewodan_kUFBPXPrLOs.lvbitx',\n",
    "            address = '192.168.0.3',\n",
    "            used_buses = [1,2,4,6], # on Wodan only these slots are used\n",
    "            ms2wait=1)\n",
    "\n",
    "# Get current DAC values from FPGA and store it to sub modules\n",
    "dac.get_DAC_values()\n",
    "\n",
    "station.add_component(dac)"
   ]
  },
  {
   "cell_type": "code",
   "execution_count": null,
   "metadata": {},
   "outputs": [],
   "source": [
    "progress.update(1)\n",
    "progress.set_description('{:>40s}'.format('Loading Neel DAC.'))\n",
    "progress.refresh() # to show immediately the update"
   ]
  },
  {
   "cell_type": "code",
   "execution_count": null,
   "metadata": {},
   "outputs": [],
   "source": [
    "# Initialize DAC\n",
    "dac.DAC_init_values()\n",
    "dac.metadata['comments'] = 'All DAC values are initialised to 0 V.'\n",
    "progress.update(1)\n",
    "progress.set_description('{:>40s}'.format('Moving Neel DAC values to zero.'))\n",
    "progress.refresh() # to show immediately the update"
   ]
  },
  {
   "cell_type": "markdown",
   "metadata": {},
   "source": [
    "### NI ADC"
   ]
  },
  {
   "cell_type": "code",
   "execution_count": null,
   "metadata": {},
   "outputs": [],
   "source": [
    "from tools.drivers.NI6216 import NI6216\n",
    "adc = NI6216(name = 'adc',\n",
    "             ai_chans = [0,1,2,3,4,5,6,7],\n",
    "             ao_chans = [0,1],\n",
    "             ai_sample_rate = 250000,\n",
    "             trigger_source = 'PFI0',\n",
    "             trigger_mode = 'free',\n",
    "             trigger_edge = 'fall',\n",
    "             average_time = 100,\n",
    "             acquire_points = 101,\n",
    "             terminal_config = 'Differential',\n",
    "             voltage_range = ['+-0.2V', '+-1V', '+-5V', '+-10V'][3],\n",
    "             )\n",
    "station.add_component(adc)\n",
    "adc.measure() # to update values\n",
    "adc.metadata['comments'] = 'AI0: DC readout<br />AI1: lock-in current readout<br />AI2: lock-in phase readout<br />AO0: magnetic field control'"
   ]
  },
  {
   "cell_type": "code",
   "execution_count": null,
   "metadata": {},
   "outputs": [],
   "source": [
    "progress.update(1)\n",
    "progress.set_description('{:>40s}'.format('Loading NI ADC card.'))\n",
    "progress.refresh() # to show immediately the update"
   ]
  },
  {
   "cell_type": "markdown",
   "metadata": {},
   "source": [
    "### SR7265 Lock-in amplifier"
   ]
  },
  {
   "cell_type": "code",
   "execution_count": null,
   "metadata": {},
   "outputs": [],
   "source": [
    "from tools.drivers.SR7265 import SR7265\n",
    "lockins = []\n",
    "gpib_addrs = [12,13,14]\n",
    "for ind,gpib_addr in enumerate(gpib_addrs):\n",
    "    li_name = 'lockin_{:d}'.format(ind)\n",
    "    li_addr = 'GPIB::{:d}::0::INSTR'.format(gpib_addr)\n",
    "    lockins.append(SR7265(name = li_name,address = li_addr))\n",
    "    lockins[ind].metadata['comments'] = 'Use via list entry lockins[{:d}]'.format(ind)\n",
    "    station.add_component(lockins[ind])\n",
    "    "
   ]
  },
  {
   "cell_type": "code",
   "execution_count": null,
   "metadata": {},
   "outputs": [],
   "source": [
    "# Set properties of lockins:\n",
    "for lockin in lockins:\n",
    "    lockin.sensitivity(0.2) # V\n",
    "    lockin.time_constant(0.1) # sec\n",
    "    message = 'Set {:s} to sensitivity of {:f} {:s} and time constant of {:f} {:s}.'\n",
    "    message_args = [lockin.name,\n",
    "                    lockin.sensitivity(),\n",
    "                    lockin.sensitivity.unit,\n",
    "                    lockin.time_constant(),\n",
    "                    lockin.time_constant.unit]\n",
    "    print(message.format(*message_args))"
   ]
  },
  {
   "cell_type": "code",
   "execution_count": null,
   "metadata": {},
   "outputs": [],
   "source": [
    "progress.update(1)\n",
    "progress.set_description('{:>40s}'.format('Loading SR Lockin amplifier.'))\n",
    "progress.refresh() # to show immediately the update"
   ]
  },
  {
   "cell_type": "markdown",
   "metadata": {},
   "source": [
    "### Other instruments\n",
    "Import other instruments here ..."
   ]
  },
  {
   "cell_type": "code",
   "execution_count": null,
   "metadata": {},
   "outputs": [],
   "source": []
  },
  {
   "cell_type": "code",
   "execution_count": null,
   "metadata": {},
   "outputs": [],
   "source": []
  },
  {
   "cell_type": "code",
   "execution_count": null,
   "metadata": {},
   "outputs": [],
   "source": []
  },
  {
   "cell_type": "code",
   "execution_count": null,
   "metadata": {},
   "outputs": [],
   "source": []
  },
  {
   "cell_type": "code",
   "execution_count": null,
   "metadata": {},
   "outputs": [],
   "source": [
    "progress.update(1)\n",
    "progress.set_description('{:>40s}'.format('Loading other instruments.'))\n",
    "progress.refresh() # to show immediately the update"
   ]
  },
  {
   "cell_type": "markdown",
   "metadata": {},
   "source": [
    "# 2. EXPERIMENT CONTROLS\n",
    "The instrument parameters that control your experiment are bundled in the abstract \"controls\" instrument that is created at startup:"
   ]
  },
  {
   "cell_type": "code",
   "execution_count": null,
   "metadata": {},
   "outputs": [],
   "source": [
    "list_instruments(station)"
   ]
  },
  {
   "cell_type": "markdown",
   "metadata": {},
   "source": [
    "Now add the intrument parameters that you use to control your experiment with the syntax:\n",
    "```Python\n",
    "ref = controls.add('ref',\n",
    "            source = instrument_parameter_value,\n",
    "            # Adapt the parameter according to your exp. setup:\n",
    "            label = r'Reasonable label $r_{\\rm L}$',\n",
    "            # ...\n",
    "            )\n",
    "```"
   ]
  },
  {
   "cell_type": "code",
   "execution_count": null,
   "metadata": {},
   "outputs": [],
   "source": [
    "progress.update(1)\n",
    "progress.set_description('{:>40s}'.format('Setting-up experiment controller.'))\n",
    "progress.refresh() # to show immediately the update"
   ]
  },
  {
   "cell_type": "markdown",
   "metadata": {},
   "source": [
    "### Example gate voltages"
   ]
  },
  {
   "cell_type": "code",
   "execution_count": null,
   "metadata": {},
   "outputs": [],
   "source": [
    "# Control of quantum point contact (QPC):\n",
    "qpc = controls.add('qpc',\n",
    "            source = dac.p1.c0.v,\n",
    "            move_command = dac.move,\n",
    "            label  = r'Quantum point contact $V_{\\rm QPC}$',\n",
    "            unit   = 'V',\n",
    "            vals   = vals.Numbers(-2.5,0.3), # limits\n",
    "            )\n",
    "\n",
    "# Control of tunnel barrier\n",
    "barrier = controls.add('barrier',\n",
    "            source = dac.p2.c0.v,\n",
    "            label  = r'Tunnel barrier $V_{\\rm B}$',\n",
    "            unit   = 'V',\n",
    "            vals = vals.Numbers(-2.5,0.3),\n",
    "            )\n",
    "\n",
    "# ... "
   ]
  },
  {
   "cell_type": "code",
   "execution_count": null,
   "metadata": {},
   "outputs": [],
   "source": [
    "progress.update(1)"
   ]
  },
  {
   "cell_type": "markdown",
   "metadata": {},
   "source": [
    "### Example DC bias pinch-off gate and readout via IV-converter"
   ]
  },
  {
   "cell_type": "code",
   "execution_count": null,
   "metadata": {},
   "outputs": [],
   "source": [
    "# DC bias with voltage divider:\n",
    "dc_bias = controls.add('dc_bias',\n",
    "            source = dac.p4.c0.v,\n",
    "            label  = r'Voltage bias $V_{\\rm Bias}$',\n",
    "            unit   = 'V',\n",
    "            scale  = 500, # ratio of dac voltage to value on sample; here 500 due to 1/500 voltage divider\n",
    "            vals   = vals.Numbers(-1e-3,1e-3), # in user units (value on sample)\n",
    "            )\n",
    "\n",
    "# Readout via IV-converter:\n",
    "i_qpc = controls.add('i_qpc',\n",
    "            source =adc.ai0.v,\n",
    "            label  = r'QPC current $I_{\\rm QPC}$',\n",
    "            unit   = 'A',\n",
    "            scale  = 1e5, # ratio of dac voltage to current through QPC; here amplification factor of IV-converter\n",
    "            )"
   ]
  },
  {
   "cell_type": "code",
   "execution_count": null,
   "metadata": {},
   "outputs": [],
   "source": [
    "progress.update(1)"
   ]
  },
  {
   "cell_type": "markdown",
   "metadata": {},
   "source": [
    "### Example DAC-lock-in bias and Lock-in readout via SR7265"
   ]
  },
  {
   "cell_type": "code",
   "execution_count": null,
   "metadata": {},
   "outputs": [],
   "source": [
    "ac_freq = controls.add('ac_freq',source=dac.LI_frequency) # frequency in Hz\n",
    "ac_ampl = controls.add('ac_ampl',\n",
    "            source = dac.LI_amplitude,\n",
    "            scale  = 500,                   # let's assume we have a 1/500 divider for the AC signal\n",
    "            vals   = vals.Numbers(0.0,1e-3) # let's limit the amplitude of the AC signal to 1 mV\n",
    "            )\n",
    "ac_chan = controls.add('ac_chan',source=dac.LI_channel) # List [panel_id, channel_id] starting from respectively from 0\n",
    "ac_bias = controls.add('ac_bias',source=dac.LI_status) # Boolean to turn on/off generation of lock-in signal"
   ]
  },
  {
   "cell_type": "code",
   "execution_count": null,
   "metadata": {},
   "outputs": [],
   "source": [
    "# Magnitude readout via lock-in detector SR7265:\n",
    "\n",
    "def nA2lockin(\n",
    "    S = 1.0,                # sensitivity in units of Volt\n",
    "    R = 1.0e4,              # measurement resistor to cold-ground\n",
    "    A = 1.0e4,              # amplification of measured AC signal\n",
    "    C = 2*np.sqrt(2)/np.pi, # conversion factor of the lock-in detector with square-input signal\n",
    "    M = 10.0,               # magnitude of detected voltage on lock-in at maximal sensitivity\n",
    "    ):\n",
    "    \"\"\" Function to convert Nanoampere to Lock-In units\"\"\"\n",
    "    return M*C*A*R/1e9/S\n",
    "\n",
    "i0 = controls.add('i0',\n",
    "            source=lockins[0].R,\n",
    "            label = r'Lock-in current $I_{\\rm LI}$',\n",
    "            unit = 'nA',\n",
    "            scale = nA2lockin(S=lockins[0].sensitivity()),\n",
    "            )\n",
    "\n",
    "# Phase readout via lock-in detector SR7265:\n",
    "\n",
    "p0 = controls.add('p0',\n",
    "            source=lockins[0].P,\n",
    "            label = r'Lock-in phase $\\phi_{\\rm LI}$',\n",
    "            unit = lockins[0].P.unit, # degree\n",
    "            )"
   ]
  },
  {
   "cell_type": "code",
   "execution_count": null,
   "metadata": {},
   "outputs": [],
   "source": [
    "progress.update(1)"
   ]
  },
  {
   "cell_type": "markdown",
   "metadata": {},
   "source": [
    "### Example magnetic field control via ADC analog-output and Bouhnik"
   ]
  },
  {
   "cell_type": "code",
   "execution_count": null,
   "metadata": {},
   "outputs": [],
   "source": [
    "# Magnetic field control:\n",
    "\n",
    "# The scale factor is defined via\n",
    "#  1. the maximum is +- 12 A for +- 10 V input voltage on the Bouthnik current source and\n",
    "#  2. the magnetic field response of the coil that is 52.6265 mT/A on Wodan.\n",
    "mT2Vadc = 1/1.2/52.6265\n",
    "lim = 10.0/mT2Vadc # Limits in Millitesla defined ADC limit of +-10 V\n",
    "\n",
    "b_field = controls.add('b_field',\n",
    "            source=adc.ao0.v,\n",
    "            label = r'Magnetic Field $B$',\n",
    "            unit = 'mT',\n",
    "            scale = mT2Vadc,\n",
    "            step = 0.1, # Max. step size in \"user-units\" (scale; here: mT)\n",
    "            inter_delay = 0.001, # Delay between steps in seconds.\n",
    "            vals  = vals.Numbers(-lim,lim),\n",
    "            # IMPORTANT: Do not use the initial_value parameter for initialisation!!!\n",
    "            )"
   ]
  },
  {
   "cell_type": "code",
   "execution_count": null,
   "metadata": {},
   "outputs": [],
   "source": [
    "progress.update(1)"
   ]
  },
  {
   "cell_type": "markdown",
   "metadata": {},
   "source": [
    "# 3. Fast sequence controls"
   ]
  },
  {
   "cell_type": "code",
   "execution_count": null,
   "metadata": {},
   "outputs": [],
   "source": [
    "# TO DO"
   ]
  },
  {
   "cell_type": "markdown",
   "metadata": {},
   "source": [
    "# 4. Configuration\n",
    "### Summary\n",
    "Let us first get an overview on the controls we have defined:"
   ]
  },
  {
   "cell_type": "code",
   "execution_count": null,
   "metadata": {
    "scrolled": true
   },
   "outputs": [],
   "source": [
    "controls.markdown()"
   ]
  },
  {
   "cell_type": "markdown",
   "metadata": {},
   "source": [
    "We can also look on the controls in form of a dictionary:"
   ]
  },
  {
   "cell_type": "code",
   "execution_count": null,
   "metadata": {},
   "outputs": [],
   "source": [
    "controls.dictionary()"
   ]
  },
  {
   "cell_type": "markdown",
   "metadata": {},
   "source": [
    "### Set control values\n",
    "Modifying the aforeshown dictionary, you can rapidly adapt the values on your will and apply them:"
   ]
  },
  {
   "cell_type": "code",
   "execution_count": null,
   "metadata": {},
   "outputs": [],
   "source": [
    "controls.apply(\n",
    "    {\n",
    "        'qpc':       -1.5    ,\n",
    "        'barrier':   -1.0    ,\n",
    "        'dc_bias':    1.0e-3 ,\n",
    "        'ac_freq':  666.0    ,\n",
    "        'ac_ampl':    100e-6 ,\n",
    "        'ac_chan':   [1,0]   ,\n",
    "        'ac_bias':   False   ,\n",
    "        'b_field':    0.0    ,\n",
    "    }\n",
    ")\n",
    "controls.markdown()"
   ]
  },
  {
   "cell_type": "code",
   "execution_count": null,
   "metadata": {},
   "outputs": [],
   "source": [
    "adc.measure()"
   ]
  },
  {
   "cell_type": "code",
   "execution_count": null,
   "metadata": {},
   "outputs": [],
   "source": [
    "controls.qpc()"
   ]
  },
  {
   "cell_type": "code",
   "execution_count": null,
   "metadata": {},
   "outputs": [],
   "source": []
  },
  {
   "cell_type": "code",
   "execution_count": null,
   "metadata": {},
   "outputs": [],
   "source": []
  }
 ],
 "metadata": {
  "kernelspec": {
   "display_name": "Python 3 (ipykernel)",
   "language": "python",
   "name": "python3"
  },
  "language_info": {
   "codemirror_mode": {
    "name": "ipython",
    "version": 3
   },
   "file_extension": ".py",
   "mimetype": "text/x-python",
   "name": "python",
   "nbconvert_exporter": "python",
   "pygments_lexer": "ipython3",
   "version": "3.9.7"
  }
 },
 "nbformat": 4,
 "nbformat_minor": 4
}
